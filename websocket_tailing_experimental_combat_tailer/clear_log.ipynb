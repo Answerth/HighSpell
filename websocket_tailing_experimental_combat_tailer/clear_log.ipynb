{
 "cells": [
  {
   "cell_type": "code",
   "execution_count": 2,
   "id": "d0be750a",
   "metadata": {},
   "outputs": [
    {
     "name": "stdout",
     "output_type": "stream",
     "text": [
      "Trimmed 'raw_ws.log' to start at timestamp '2025-05-09T21:22:36.693859'.\n"
     ]
    }
   ],
   "source": [
    "# ─── Cell: Trim raw_ws.log from a given timestamp ────────────────────────────────\n",
    "\n",
    "import sys\n",
    "from pathlib import Path\n",
    "\n",
    "def remove_before_timestamp(log_path: Path, timestamp: str) -> None:\n",
    "    \"\"\"\n",
    "    Read in the log, find the first line that starts with `timestamp`,\n",
    "    and overwrite the file so only that line and everything after remains.\n",
    "    \"\"\"\n",
    "    # read all lines (preserving line endings)\n",
    "    lines = log_path.read_text().splitlines(keepends=True)\n",
    "\n",
    "    # find the cutoff index\n",
    "    for idx, line in enumerate(lines):\n",
    "        if line.startswith(timestamp):\n",
    "            break\n",
    "    else:\n",
    "        raise ValueError(f\"Timestamp {timestamp!r} not found in {log_path}\")\n",
    "\n",
    "    # write back only the tail from the cutoff line\n",
    "    log_path.write_text(''.join(lines[idx:]))\n",
    "    print(f\"Trimmed '{log_path.name}' to start at timestamp {timestamp!r}.\")\n",
    "\n",
    "\n",
    "# ─── Invocation ─────────────────────────────────────────────────────────────────\n",
    "\n",
    "# Set your cutoff timestamp here:\n",
    "ts = \"2025-05-09T21:22:36.693859\"\n",
    "\n",
    "# Point at the log file in the current notebook directory:\n",
    "log_file = Path(\"raw_ws.log\")\n",
    "\n",
    "# Perform the trim:\n",
    "remove_before_timestamp(log_file, ts)\n"
   ]
  },
  {
   "cell_type": "code",
   "execution_count": null,
   "id": "0a693b7f",
   "metadata": {},
   "outputs": [],
   "source": []
  }
 ],
 "metadata": {
  "kernelspec": {
   "display_name": "excelautomatize",
   "language": "python",
   "name": "python3"
  },
  "language_info": {
   "codemirror_mode": {
    "name": "ipython",
    "version": 3
   },
   "file_extension": ".py",
   "mimetype": "text/x-python",
   "name": "python",
   "nbconvert_exporter": "python",
   "pygments_lexer": "ipython3",
   "version": "3.11.3"
  }
 },
 "nbformat": 4,
 "nbformat_minor": 5
}
